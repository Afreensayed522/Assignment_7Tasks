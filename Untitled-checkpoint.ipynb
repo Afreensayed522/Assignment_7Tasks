{
 "cells": [
  {
   "cell_type": "code",
   "execution_count": 10,
   "id": "cca733ec",
   "metadata": {},
   "outputs": [],
   "source": [
    "def creditcard_offer(salary):\n",
    "    if (salary<10000):\n",
    "        print(salary*10)\n",
    "    elif (salary>=10000) and (salary<=30000):\n",
    "        print(salary*20)\n",
    "    else:\n",
    "        print(salary*30)"
   ]
  },
  {
   "cell_type": "code",
   "execution_count": 11,
   "id": "3ee73ff4",
   "metadata": {},
   "outputs": [
    {
     "name": "stdout",
     "output_type": "stream",
     "text": [
      "50000\n"
     ]
    }
   ],
   "source": [
    "creditcard_offer(5000)"
   ]
  },
  {
   "cell_type": "code",
   "execution_count": 12,
   "id": "1985ebb7",
   "metadata": {},
   "outputs": [
    {
     "name": "stdout",
     "output_type": "stream",
     "text": [
      "20000\n"
     ]
    }
   ],
   "source": [
    "creditcard_offer(2000)\n",
    "     "
   ]
  },
  {
   "cell_type": "code",
   "execution_count": 9,
   "id": "fae740f1",
   "metadata": {},
   "outputs": [
    {
     "name": "stdout",
     "output_type": "stream",
     "text": [
      "400000\n"
     ]
    }
   ],
   "source": [
    "creditcard_offer(20000)"
   ]
  },
  {
   "cell_type": "code",
   "execution_count": null,
   "id": "4784a49a",
   "metadata": {},
   "outputs": [],
   "source": []
  },
  {
   "cell_type": "code",
   "execution_count": 22,
   "id": "00482393",
   "metadata": {},
   "outputs": [],
   "source": [
    "def Dmart_discount_offer(amount):\n",
    "    if(amount<20000):\n",
    "        print(\"discount is 20%\")\n",
    "    elif(amount>=20000) and (amount<=40000):\n",
    "        print(\"discount is 30%\")\n",
    "    else:\n",
    "        print(\"discount is 40%\")"
   ]
  },
  {
   "cell_type": "code",
   "execution_count": 16,
   "id": "75fc5191",
   "metadata": {},
   "outputs": [
    {
     "name": "stdout",
     "output_type": "stream",
     "text": [
      "discount is 20%\n"
     ]
    }
   ],
   "source": [
    "Dmart_discount_offer(222)"
   ]
  },
  {
   "cell_type": "code",
   "execution_count": 21,
   "id": "ff905172",
   "metadata": {},
   "outputs": [
    {
     "name": "stdout",
     "output_type": "stream",
     "text": [
      "discount is 30%\n"
     ]
    }
   ],
   "source": [
    "Dmart_discount_offer(25000)"
   ]
  },
  {
   "cell_type": "code",
   "execution_count": 26,
   "id": "6c67cb81",
   "metadata": {},
   "outputs": [
    {
     "name": "stdout",
     "output_type": "stream",
     "text": [
      "discount is 40%\n"
     ]
    }
   ],
   "source": [
    "Dmart_discount_offer(45000)\n",
    "    "
   ]
  },
  {
   "cell_type": "code",
   "execution_count": null,
   "id": "92cd8591",
   "metadata": {},
   "outputs": [],
   "source": []
  },
  {
   "cell_type": "code",
   "execution_count": 27,
   "id": "2321ba6a",
   "metadata": {},
   "outputs": [],
   "source": [
    "def Amazon_online_offer(product):\n",
    "    if (product==\"electronic\"):\n",
    "        print(\"discount is 20%\")\n",
    "    elif (product==\"cloth\"):\n",
    "        print(\"discount is 30%\")\n",
    "    else:\n",
    "        print(\"dicount is 40%\")\n"
   ]
  },
  {
   "cell_type": "code",
   "execution_count": 28,
   "id": "a394e1e6",
   "metadata": {},
   "outputs": [
    {
     "name": "stdout",
     "output_type": "stream",
     "text": [
      "discount is 20%\n"
     ]
    }
   ],
   "source": [
    "Amazon_online_offer(\"electronic\")"
   ]
  },
  {
   "cell_type": "code",
   "execution_count": 30,
   "id": "1c1c4bb0",
   "metadata": {},
   "outputs": [
    {
     "name": "stdout",
     "output_type": "stream",
     "text": [
      "discount is 30%\n"
     ]
    }
   ],
   "source": [
    "Amazon_online_offer(\"cloth\")"
   ]
  },
  {
   "cell_type": "code",
   "execution_count": 32,
   "id": "36cef8ad",
   "metadata": {},
   "outputs": [
    {
     "name": "stdout",
     "output_type": "stream",
     "text": [
      "dicount is 40%\n"
     ]
    }
   ],
   "source": [
    "Amazon_online_offer(\"tv\")"
   ]
  },
  {
   "cell_type": "code",
   "execution_count": null,
   "id": "10b9457b",
   "metadata": {},
   "outputs": [],
   "source": []
  }
 ],
 "metadata": {
  "kernelspec": {
   "display_name": "Python 3 (ipykernel)",
   "language": "python",
   "name": "python3"
  },
  "language_info": {
   "codemirror_mode": {
    "name": "ipython",
    "version": 3
   },
   "file_extension": ".py",
   "mimetype": "text/x-python",
   "name": "python",
   "nbconvert_exporter": "python",
   "pygments_lexer": "ipython3",
   "version": "3.10.9"
  }
 },
 "nbformat": 4,
 "nbformat_minor": 5
}
